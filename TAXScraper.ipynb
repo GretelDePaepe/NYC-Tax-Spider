{
 "cells": [
  {
   "cell_type": "markdown",
   "metadata": {},
   "source": [
    "# TAX Scraper - Scrapes the data from the PDFs collected by the TAXSpyder"
   ]
  },
  {
   "cell_type": "markdown",
   "metadata": {},
   "source": [
    "### Imports the libraries"
   ]
  },
  {
   "cell_type": "code",
   "execution_count": 48,
   "metadata": {
    "collapsed": true
   },
   "outputs": [],
   "source": [
    "from pyPdf import PdfFileReader\n",
    "import re\n",
    "import os\n",
    "import pandas as pd\n",
    "import shutil"
   ]
  },
  {
   "cell_type": "markdown",
   "metadata": {},
   "source": [
    "### Copy O4 Office building files to the main dir"
   ]
  },
  {
   "cell_type": "markdown",
   "metadata": {},
   "source": [
    "Assumes that the pdf you downloaded are all in a sub dir of the current work dir named \"All\".  We first copy the ones for O4 Office Buildings into the current work dir.  Some pdf may fail to open.  A failure message will be printed for futher investigation if this happens."
   ]
  },
  {
   "cell_type": "code",
   "execution_count": 49,
   "metadata": {
    "collapsed": true
   },
   "outputs": [],
   "source": [
    "def read_PDF(pdf):\n",
    "    '''\n",
    "    Grabs all the text of a pdf\n",
    "    '''\n",
    "    pdfOpen = open(pdf, \"r\")\n",
    "    pdfRead = PdfFileReader(pdfOpen)\n",
    "    pdfText = ''\n",
    "    for page in pdfRead.pages:\n",
    "        pdfText += page.extractText()\n",
    "    return pdfText"
   ]
  },
  {
   "cell_type": "code",
   "execution_count": 50,
   "metadata": {
    "collapsed": false
   },
   "outputs": [],
   "source": [
    "for path, subdirs, files in os.walk('All'):\n",
    "    for name in files:\n",
    "        dst = name\n",
    "        src = os.path.join(path, name)\n",
    "        if dst.startswith('NPV'):\n",
    "            try:\n",
    "                pdfText = read_PDF(src)\n",
    "                if pdfText.split('BUILDING CLASS:')[1].split('UNITS:')[0] == '  O4 (Office buildings)':            \n",
    "                    dst2 = dst.replace('NPV','PTB')\n",
    "                    src2 = src.replace('NPV','PTB')\n",
    "                    shutil.copyfile(src, dst)\n",
    "                    shutil.copyfile(src2, dst2)\n",
    "            except:\n",
    "                print 'Failure', name\n",
    "                pass"
   ]
  },
  {
   "cell_type": "markdown",
   "metadata": {},
   "source": [
    "### Defines the functions"
   ]
  },
  {
   "cell_type": "markdown",
   "metadata": {},
   "source": [
    "#### PTB"
   ]
  },
  {
   "cell_type": "code",
   "execution_count": 51,
   "metadata": {
    "collapsed": true
   },
   "outputs": [],
   "source": [
    "def read_PTBtaxPDF(pdf):\n",
    "    '''\n",
    "    Parses following tax information from a Property Tax Bill (PTB) PDF:\n",
    "    -previous charges\n",
    "    -current charges\n",
    "    -new charges\n",
    "    -outstanding charges\n",
    "    '''\n",
    "    building = pdf[3:-4]\n",
    "    pdfText = read_PDF(pdf)\n",
    "    activityThrough = pdfText.split(\n",
    "        'Quarterly StatementActivity through')[1].split(\n",
    "        'Mailing address:')[0].split(\n",
    "        'Statement Billing Summary')[0]\n",
    "    if pdfText[0:8] == 'Previous':\n",
    "        previousCharges = pdfText.split(\n",
    "            'Previous charges$')[1].split('Amount paid$')[0]\n",
    "        previousCharges = float(re.sub(',', '', previousCharges))\n",
    "        currentCharges = pdfText.split(\n",
    "            'Current charges$')[1].split('Total amount due')[0]\n",
    "        currentCharges = float(re.sub(',', '', currentCharges))\n",
    "    else:\n",
    "        previousCharges = 0.00\n",
    "        currentCharges = 0.00\n",
    "    if pdfText[0:6] == '001400':\n",
    "        outstandingCharges = pdfText.split(\n",
    "            'Outstanding Charges$')[1].split('New Charges$')[0]\n",
    "        outstandingCharges = float(re.sub(',', '', outstandingCharges))\n",
    "        newCharges = pdfText.split('New Charges$')[1].split('Amount Due$')[0]\n",
    "        newCharges = float(re.sub(',', '', newCharges))\n",
    "    else:\n",
    "        outstandingCharges = 0.00\n",
    "        newCharges = 0.00\n",
    "    return building, activityThrough, previousCharges, currentCharges, outstandingCharges, newCharges"
   ]
  },
  {
   "cell_type": "code",
   "execution_count": 52,
   "metadata": {
    "collapsed": true
   },
   "outputs": [],
   "source": [
    "def get_PTBData():\n",
    "    taxDict = {}\n",
    "    buildingList = []\n",
    "    activityThroughList = []\n",
    "    previousChargesList = []\n",
    "    currentChargesList = []\n",
    "    outstandingChargesList = []\n",
    "    newChargesList = []\n",
    "    path = os.getcwd()\n",
    "    for pdf in os.listdir(path):\n",
    "        if pdf.startswith('PTB'):\n",
    "            try:\n",
    "                result = read_PTBtaxPDF(pdf)\n",
    "                buildingList.append(result[0])\n",
    "                activityThroughList.append(result[1])\n",
    "                previousChargesList.append(result[2])\n",
    "                currentChargesList.append(result[3])\n",
    "                outstandingChargesList.append(result[4])\n",
    "                newChargesList.append(result[5])\n",
    "            except:\n",
    "                pass\n",
    "    taxDict['building'] = buildingList\n",
    "    taxDict['activityThrough'] = activityThroughList\n",
    "    taxDict['previousCharges'] = previousChargesList\n",
    "    taxDict['currentCharges'] = currentChargesList\n",
    "    taxDict['outstandingCharges'] = outstandingChargesList\n",
    "    taxDict['newCharges'] = newChargesList\n",
    "    taxDf = pd.DataFrame(taxDict)\n",
    "    return taxDf"
   ]
  },
  {
   "cell_type": "markdown",
   "metadata": {},
   "source": [
    "#### NPV"
   ]
  },
  {
   "cell_type": "code",
   "execution_count": 53,
   "metadata": {
    "collapsed": true
   },
   "outputs": [],
   "source": [
    "def cats_Start(pdfText):\n",
    "    '''\n",
    "    Arranges the categories in order they appear in the pdf\n",
    "    '''\n",
    "    try:\n",
    "        startLast1 = pdfText.index('FactorsUsedByFinance')\n",
    "    except:\n",
    "        startLast1 = 99999999\n",
    "    try:\n",
    "        startLast2 = pdfText.index('Ifyoubelieve')\n",
    "    except:\n",
    "        startLast2 = 99999999\n",
    "    catStartList = []\n",
    "    cats = ['NumberofBuildings:',\n",
    "            'GrossSquareFootage:',\n",
    "            'NumberofStories:',\n",
    "            'NumberofResidentialUnits:',\n",
    "            'StructureType:',\n",
    "            'GrossResidentialSquareFootage:',\n",
    "            'Grade:',\n",
    "            'NumberofCommercialUnits:',\n",
    "            'ConstructionType:',\n",
    "            'GrossCommercialSquareFootage:',\n",
    "            'PrimaryZoning:',\n",
    "            'YearBuilt:']\n",
    "    for cat in cats:\n",
    "        #print cat\n",
    "        start = pdfText.index(cat)\n",
    "        catStartList.append(start)\n",
    "    cats.append('FactorsUsedByFinance')\n",
    "    catStartList.append(startLast1)\n",
    "    cats.append('Ifyoubelieve')\n",
    "    catStartList.append(startLast2)\n",
    "    return [cat for (st, cat) in sorted(zip(catStartList, cats))][:-1]"
   ]
  },
  {
   "cell_type": "code",
   "execution_count": 54,
   "metadata": {
    "collapsed": true
   },
   "outputs": [],
   "source": [
    "def get_NPVIncomeData():\n",
    "    '''\n",
    "    Parses all the values for the categories in cats\n",
    "    from the New Property Value PDFs for for all\n",
    "    O4 (Office buildings) buildings\n",
    "    '''\n",
    "    path = os.getcwd()\n",
    "\n",
    "    buildingDict = {}\n",
    "    buildingList = []\n",
    "    classList = []\n",
    "    ownerList = []\n",
    "    estimatedGrossIncomeList = []\n",
    "    estimatedExpensesList = []\n",
    "    estimatedNetIncomeList = []\n",
    "    capitalizationRateList = []\n",
    "    effectiveTaxRateList = []\n",
    "    overallCapRateList = []\n",
    "    dataAsOffList = []\n",
    "\n",
    "    for pdf in os.listdir(path):\n",
    "        building = pdf[3:-4]\n",
    "        if pdf.startswith('NPV'):\n",
    "            try:\n",
    "                pdfText = read_PDF(pdf)\n",
    "                pdfText = pdfText.replace(\" \", \"\")\n",
    "                pdfText = pdfText.replace(\"GrossResidentialSq.Footage:\", \"GrossResidentialSquareFootage:\")\n",
    "                pdfText = pdfText.replace(\"GrossCommercialSq.Footage:\", \"GrossCommercialSquareFootage:\")\n",
    "\n",
    "                buildingClass = pdfText.split('BUILDINGCLASS:')[1].split('UNITS:')[0]\n",
    "                owner = pdfText.split('OWNERNAME')[1].split('PROPERTYADDRESS')[0]\n",
    "                estimatedGrossIncome = pdfText.split('EstimatedGrossIncome:$')[1].split('EstimatedExpenses:$')[0]\n",
    "                estimatedExpenses = pdfText.split('EstimatedExpenses:$')[1].split('NetOperatingIncome:Wesubtract')[0]\n",
    "                estimatedNetIncome = pdfText.split('resultinginanetoperatingincomeof$')[1].split('.BaseCapRate:Weusedacapitalizationrateof')[0]\n",
    "                capitalizationRate = pdfText.split('.BaseCapRate:Weusedacapitalizationrateof')[1].split('%whichisFinance')[0]\n",
    "                effectiveTaxRate = pdfText.split('Weaddaneffectivetaxrateof')[1].split('%toaccountfortaxesdue.Addedtogetheryouroverallcapitalizationrateis')[0]\n",
    "                overallCapRate = pdfText.split('Addedtogetheryouroverallcapitalizationrateis')[1].split('%.TheDepartmentofFinancehas')[0]\n",
    "                dataAsOff = pdfText.split('TheDepartmentofFinanceestimatesthatasof')[1].split(',theMarketValueforthispropertyis')[0]\n",
    "\n",
    "                classList.append(buildingClass)\n",
    "                ownerList.append(owner)\n",
    "                estimatedGrossIncomeList.append(estimatedGrossIncome)\n",
    "                estimatedExpensesList.append(estimatedExpenses)\n",
    "                estimatedNetIncomeList.append(estimatedNetIncome)\n",
    "                capitalizationRateList.append(capitalizationRate)\n",
    "                effectiveTaxRateList.append(effectiveTaxRate)\n",
    "                overallCapRateList.append(overallCapRate)\n",
    "                dataAsOffList.append(dataAsOff)\n",
    "                buildingList.append(building)\n",
    "            except:\n",
    "                print 'Failure Cats: ', building\n",
    "                pass\n",
    "    buildingDict['building'] = buildingList\n",
    "    buildingDict['buildingClass'] = classList\n",
    "    buildingDict['owner'] = ownerList\n",
    "    buildingDict['estimatedGrossIncome'] = estimatedGrossIncomeList\n",
    "    buildingDict['estimatedExpenses'] = estimatedExpensesList\n",
    "    buildingDict['estimatedNetIncome'] = estimatedNetIncomeList\n",
    "    buildingDict['capitalizationRate'] = capitalizationRateList\n",
    "    buildingDict['effectiveTaxRate'] = effectiveTaxRateList\n",
    "    buildingDict['overallCapRate'] = overallCapRateList\n",
    "    buildingDict['dataAsOff'] = dataAsOffList        \n",
    "    \n",
    "    NPVIncome_Df = pd.DataFrame(buildingDict)\n",
    "\n",
    "    return NPVIncome_Df"
   ]
  },
  {
   "cell_type": "code",
   "execution_count": 55,
   "metadata": {
    "collapsed": true
   },
   "outputs": [],
   "source": [
    "def get_NPVCatData():\n",
    "    '''\n",
    "    Parses all the income and rate values\n",
    "    from the New Property Value PDFs for for all\n",
    "    O4 (Office buildings) buildings\n",
    "    '''\n",
    "    path = os.getcwd()\n",
    "    \n",
    "    buildingList = []\n",
    "    NumberofBuildingsList = []\n",
    "    GrossSquareFootageList = []\n",
    "    NumberofStoriesList = []\n",
    "    NumberofResidentialUnitsList = []\n",
    "    StructureTypeList = []\n",
    "    GrossResSquareFootageList = []\n",
    "    GradeList = []\n",
    "    NumberofCommercialUnitsList = []\n",
    "    ConstructionTypeList = []\n",
    "    GrossCommSquareFootageList = []\n",
    "    PrimaryZoningList = []\n",
    "    YearBuiltList = []\n",
    "\n",
    "    catDict = {'building': buildingList,\n",
    "               'NumberofBuildings': NumberofBuildingsList,\n",
    "               'GrossSquareFootage': GrossSquareFootageList,\n",
    "               'NumberofStories': NumberofStoriesList,\n",
    "               'NumberofResidentialUnits': NumberofResidentialUnitsList,\n",
    "               'StructureType': StructureTypeList,\n",
    "               'GrossResidentialSquareFootage': GrossResSquareFootageList,\n",
    "               'Grade': GradeList,\n",
    "               'NumberofCommercialUnits': NumberofCommercialUnitsList,\n",
    "               'ConstructionType': ConstructionTypeList,\n",
    "               'GrossCommercialSquareFootage': GrossCommSquareFootageList,\n",
    "               'PrimaryZoning': PrimaryZoningList,\n",
    "               'YearBuilt': YearBuiltList}\n",
    "\n",
    "    for pdf in os.listdir(path):\n",
    "        building = pdf[3:-4]\n",
    "        if pdf.startswith('NPV'):\n",
    "            try:\n",
    "                #print building\n",
    "\n",
    "                pdfText = read_PDF(pdf)\n",
    "\n",
    "                pdfText = pdfText.replace(\" \", \"\")\n",
    "                pdfText = pdfText.replace(\"GrossResidentialSq.Footage:\", \"GrossResidentialSquareFootage:\")\n",
    "                pdfText = pdfText.replace(\"GrossCommercialSq.Footage:\", \"GrossCommercialSquareFootage:\")\n",
    "                pdfText = pdfText.replace(\"EstimatedBuildingGrossSquareFootage:\", \"EstimatedBuildingGrossSquareFoot:\")\n",
    "\n",
    "                cats = cats_Start(pdfText)\n",
    "                catDict['building'].append(building)\n",
    "                for i in range(12):\n",
    "                    cat = cats[i][:-1]\n",
    "                    catValue = pdfText.split(cats[i])[1].split(cats[i+1])[0]\n",
    "                    catDict[cat].append(catValue)\n",
    "            except:\n",
    "                print 'Failure Income: ', building\n",
    "                pass\n",
    "            \n",
    "    NPVCat_Df = pd.DataFrame(catDict)\n",
    "            \n",
    "    return NPVCat_Df"
   ]
  },
  {
   "cell_type": "markdown",
   "metadata": {},
   "source": [
    "### Calls the functions to grab the data and sends it to an Excel book"
   ]
  },
  {
   "cell_type": "code",
   "execution_count": 56,
   "metadata": {
    "collapsed": false
   },
   "outputs": [],
   "source": [
    "# Call all the functions\n",
    "PTBData = get_PTBData()\n",
    "NPVIncomeData = get_NPVIncomeData()\n",
    "NPVCatData = get_NPVCatData()"
   ]
  },
  {
   "cell_type": "code",
   "execution_count": 57,
   "metadata": {
    "collapsed": false
   },
   "outputs": [],
   "source": [
    "# Merge all the data and send to Excel output\n",
    "data1 = PTBData.merge(NPVIncomeData, on='building', how='outer')\n",
    "data2 = data1.merge(NPVCatData, on='building', how='outer')\n",
    "writer = pd.ExcelWriter('NYC Tax scraping.xlsx')\n",
    "data2.to_excel(writer, sheet_name='Data')\n",
    "writer.save()"
   ]
  },
  {
   "cell_type": "markdown",
   "metadata": {},
   "source": [
    "## Testing"
   ]
  },
  {
   "cell_type": "code",
   "execution_count": 58,
   "metadata": {
    "collapsed": false
   },
   "outputs": [
    {
     "name": "stdout",
     "output_type": "stream",
     "text": [
      " OK  got: u'22,423,353' expected: '22,423,353'\n",
      " OK  got: u'7,967,936' expected: '7,967,936'\n",
      " OK  got: u'34,804,824' expected: '34,804,824'\n",
      " OK  got: u'43.00' expected: '43.00'\n",
      " OK  got: 12109446.68 expected: 12109446.68\n"
     ]
    }
   ],
   "source": [
    "def test(got, expected):\n",
    "  if got == expected:\n",
    "    prefix = ' OK '\n",
    "  else:\n",
    "    prefix = '  X '\n",
    "  print '%s got: %s expected: %s' % (prefix, repr(got), repr(expected))\n",
    "\n",
    "test(data2[data2['building'] == '7 W 48th St']['estimatedNetIncome'].item(),'22,423,353')\n",
    "test(data2[data2['building'] == '12 W 49th St']['estimatedNetIncome'].item(),'7,967,936')\n",
    "test(data2[data2['building'] == '25 W 42nd St']['estimatedNetIncome'].item(),'34,804,824')\n",
    "test(data2[data2['building'] == '59 W 51st St']['NumberofStories'].item(),'43.00')\n",
    "test(data2[data2['building'] == '109 Park Avenue']['currentCharges'].item(),12109446.68)"
   ]
  },
  {
   "cell_type": "code",
   "execution_count": null,
   "metadata": {
    "collapsed": true
   },
   "outputs": [],
   "source": []
  }
 ],
 "metadata": {
  "kernelspec": {
   "display_name": "Python 2",
   "language": "python",
   "name": "python2"
  },
  "language_info": {
   "codemirror_mode": {
    "name": "ipython",
    "version": 2
   },
   "file_extension": ".py",
   "mimetype": "text/x-python",
   "name": "python",
   "nbconvert_exporter": "python",
   "pygments_lexer": "ipython2",
   "version": "2.7.10"
  }
 },
 "nbformat": 4,
 "nbformat_minor": 0
}
