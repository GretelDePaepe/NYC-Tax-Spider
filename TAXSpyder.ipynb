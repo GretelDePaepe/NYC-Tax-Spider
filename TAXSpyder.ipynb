{
 "cells": [
  {
   "cell_type": "markdown",
   "metadata": {},
   "source": [
    "# Collects 'Property Tax Bill' and 'New Property Value' PDFs for NYC"
   ]
  },
  {
   "cell_type": "markdown",
   "metadata": {},
   "source": [
    "In this notebook, I have made the following adjustements:\n",
    "    - You can now choose which statements you want (last period, the period before that, etc)\n",
    "    - You can specify all the streets and number ranges you want to scrape."
   ]
  },
  {
   "cell_type": "markdown",
   "metadata": {},
   "source": [
    "### Import Libraries"
   ]
  },
  {
   "cell_type": "code",
   "execution_count": 8,
   "metadata": {
    "collapsed": true
   },
   "outputs": [],
   "source": [
    "#Import libs\n",
    "import requests\n",
    "import urllib\n",
    "from urllib2 import urlopen\n",
    "import re\n",
    "import os\n",
    "from datetime import datetime\n",
    "import time"
   ]
  },
  {
   "cell_type": "code",
   "execution_count": 9,
   "metadata": {
    "collapsed": false
   },
   "outputs": [],
   "source": [
    "newpath = 'All'\n",
    "if not os.path.exists(newpath):\n",
    "    os.makedirs(newpath)"
   ]
  },
  {
   "cell_type": "markdown",
   "metadata": {},
   "source": [
    "### Define spyder functions"
   ]
  },
  {
   "cell_type": "code",
   "execution_count": 10,
   "metadata": {
    "collapsed": true
   },
   "outputs": [],
   "source": [
    "def get_PTBtaxPDF(number,street,area='1',latest = 0):\n",
    "    '''\n",
    "    Downloads the latest Property Tax Bill from NYC for a certain address\n",
    "    Enter number and street as strings\n",
    "    Use area '1' for Manhattan (Default)\n",
    "    Use area '2' for Bronx\n",
    "    Use area '3' for Brooklyn\n",
    "    Use area '4' for Queens\n",
    "    Use area '5' for Staten Island\n",
    "    The default for latest is 0, which means the latest  statements, change to 1 for second lastes, 2 for third latest...\n",
    "    The PDF will be stored in your current working dir\n",
    "    '''\n",
    "    params = {'FBORO':area,'FHOUSENUM':number,'FSTNAME' :street}\n",
    "    request1 = requests.post(\"HTTP://webapps.nyc.gov:8084/CICS/fin1/find001i\",data=params)\n",
    "    request1Text = request1.text\n",
    "    request1List = request1Text.split('<input type=')\n",
    "    request1InputList = request1List[1:-1]\n",
    "    request1Dict = {}\n",
    "    for n in range(22):\n",
    "        templist = request1InputList[n]\n",
    "        key = templist.split('\"\\r\\n')[0].split('\"hidden\" name=\"')[1]\n",
    "        value = templist.split('value=\"')[1].split('\">\\r\\n')[0]\n",
    "        request1Dict[key] = value\n",
    "    params = request1Dict\n",
    "    request2 = requests.post(\"HTTP://NYCPROP.NYC.GOV/nycproperty/nynav/jsp/stmtassesslst.jsp\",data=params)\n",
    "    request2Text = request2.text\n",
    "    bbl = re.findall('bbl=\\d+',request2Text)\n",
    "    bbl = bbl[0].split('=')[1]\n",
    "    dateTemp1 = request2Text.split(' - Quarterly Property Tax Bill')[latest]\n",
    "    dateTemp2 = dateTemp1.split('\\t')[-1]\n",
    "    dateTemp3 = datetime.strptime(dateTemp2,'%B %d, %Y')\n",
    "    stmtDateLast = dateTemp3.strftime('%Y%m%d')\n",
    "    path = 'All'\n",
    "    name = '/PTB' + number + \" \" + street + '.pdf'\n",
    "    pathName = path + name\n",
    "    url = 'http://nycprop.nyc.gov/nycproperty/StatementSearch?bbl=' + bbl + '&stmtDate=' + stmtDateLast + '&stmtType=SOA'\n",
    "    #print url\n",
    "    urllib.urlretrieve(url, pathName)\n",
    "    return url"
   ]
  },
  {
   "cell_type": "code",
   "execution_count": 11,
   "metadata": {
    "collapsed": true
   },
   "outputs": [],
   "source": [
    "def get_NPVtaxPDF(number,street,area='1',latest = 0):\n",
    "    '''\n",
    "    Downloads the latest Notice of Property Value from NYC for a certain address\n",
    "    Enter number and street as strings\n",
    "    Use area '1' for Manhattan (Default)\n",
    "    Use area '2' for Bronx\n",
    "    Use area '3' for Brooklyn\n",
    "    Use area '4' for Queens\n",
    "    Use area '5' for Staten Island\n",
    "    The default for latest is 0, which means the latest  statements, change to 1 for second lastes, 2 for third latest...\n",
    "    The PDF will be stored in your current working dir\n",
    "    '''\n",
    "    params = {'FBORO':area,'FHOUSENUM':number,'FSTNAME' :street}\n",
    "    request1 = requests.post(\"HTTP://webapps.nyc.gov:8084/CICS/fin1/find001i\",data=params)\n",
    "    request1Text = request1.text\n",
    "    request1List = request1Text.split('<input type=')\n",
    "    request1InputList = request1List[1:-1]\n",
    "    request1Dict = {}\n",
    "    for n in range(22):\n",
    "        templist = request1InputList[n]\n",
    "        key = templist.split('\"\\r\\n')[0].split('\"hidden\" name=\"')[1]\n",
    "        value = templist.split('value=\"')[1].split('\">\\r\\n')[0]\n",
    "        request1Dict[key] = value\n",
    "    params = request1Dict\n",
    "    request2 = requests.post(\"HTTP://NYCPROP.NYC.GOV/nycproperty/nynav/jsp/stmtassesslst.jsp\",data=params)\n",
    "    request2Text = request2.text\n",
    "    bbl = re.findall('bbl=\\d+',request2Text)\n",
    "    bbl = bbl[0].split('=')[1]\n",
    "    dateTemp1 = request2Text.split(' - Notice of Property Value')[latest]\n",
    "    dateTemp2 = dateTemp1.split('\\t')[-1]\n",
    "    dateTemp3 = datetime.strptime(dateTemp2,'%B %d, %Y')\n",
    "    stmtDateLast = dateTemp3.strftime('%Y%m%d')\n",
    "    path = 'All'\n",
    "    name = '/NPV' + number + \" \" + street + '.pdf'\n",
    "    pathName = path + name\n",
    "    url = 'http://nycprop.nyc.gov/nycproperty/StatementSearch?bbl=' + bbl + '&stmtDate=' + stmtDateLast + '&stmtType=NPV'\n",
    "    #print url\n",
    "    urllib.urlretrieve(url, pathName)\n",
    "    return url"
   ]
  },
  {
   "cell_type": "markdown",
   "metadata": {},
   "source": [
    "### Define area to be crawled"
   ]
  },
  {
   "cell_type": "code",
   "execution_count": 5,
   "metadata": {
    "collapsed": true
   },
   "outputs": [],
   "source": [
    "areaManhatten = {\n",
    "                    '7 Avenue': (580, 800),\n",
    "                    'Avenue of Americas': (1000, 1300),\n",
    "                    '5 Avenue': (500, 700),\n",
    "                    'Madison Avenue': (280, 520),\n",
    "                    'Park Avenue': (100, 400),\n",
    "                    'Lexington Avenue': (300, 700),\n",
    "                    '3 Avenue': (600, 1000),\n",
    "                    '2 Avenue': (700, 1000),\n",
    "                    'E 42nd St': (0, 300),\n",
    "                    'E 43rd St': (0, 300),\n",
    "                    'E 44th St': (0, 300),\n",
    "                    'E 45th St': (0, 300),\n",
    "                    'E 46th St': (0, 300),\n",
    "                    'E 47th St': (0, 300),\n",
    "                    'E 48th St': (0, 300),\n",
    "                    'E 49th St': (0, 300),\n",
    "                    'E 50th St': (0, 300),\n",
    "                    'E 51st St': (0, 300),\n",
    "                    'E 52nd St': (0, 300),\n",
    "                    'W 42nd St': (0, 200),\n",
    "                    'W 43rd St': (0, 200),\n",
    "                    'W 44th St': (0, 200),\n",
    "                    'W 45th St': (0, 200),\n",
    "                    'W 46th St': (0, 200),\n",
    "                    'W 47th St': (0, 200),\n",
    "                    'W 48th St': (0, 200),\n",
    "                    'W 49th St': (0, 200),\n",
    "                    'W 50th St': (0, 200),\n",
    "                    'W 51st St': (0, 200),\n",
    "                    'W 52nd St': (0, 200)\n",
    "                }"
   ]
  },
  {
   "cell_type": "code",
   "execution_count": 12,
   "metadata": {
    "collapsed": true
   },
   "outputs": [],
   "source": [
    "# If you want to test for a smaller set first use this\n",
    "areaManhatten = {\n",
    "                    'W 48th St': (7, 9),\n",
    "                    'W 49th St': (12, 14),\n",
    "                    'W 42nd St': (25, 27),\n",
    "                    'W 51st St': (59,61),\n",
    "                    'Park Avenue': (109,111)\n",
    "                }"
   ]
  },
  {
   "cell_type": "markdown",
   "metadata": {},
   "source": [
    "### Crawl each street to collect PDFs and wait 5 minutes"
   ]
  },
  {
   "cell_type": "code",
   "execution_count": 13,
   "metadata": {
    "collapsed": false
   },
   "outputs": [
    {
     "name": "stdout",
     "output_type": "stream",
     "text": [
      "Starting W 49th St at 08:23AM on May 28, 2016\n",
      "End W 49th St at 08:23AM on May 28, 2016\n",
      "Starting Park Avenue at 08:23AM on May 28, 2016\n",
      "End Park Avenue at 08:24AM on May 28, 2016\n",
      "Starting W 51st St at 08:24AM on May 28, 2016\n",
      "End W 51st St at 08:24AM on May 28, 2016\n",
      "Starting W 42nd St at 08:24AM on May 28, 2016\n",
      "End W 42nd St at 08:24AM on May 28, 2016\n",
      "Starting W 48th St at 08:24AM on May 28, 2016\n",
      "End W 48th St at 08:25AM on May 28, 2016\n"
     ]
    }
   ],
   "source": [
    "for key in areaManhatten.keys():\n",
    "    startStreet = datetime.now()\n",
    "    startStreetString = startStreet.strftime(\"%I:%M%p on %B %d, %Y\")\n",
    "    street = key\n",
    "    numbers = range(areaManhatten[street][0], areaManhatten[street][1])\n",
    "    print 'Starting %s at %s' %(street,startStreetString)\n",
    "    for n in numbers:\n",
    "        number = str(n)\n",
    "        try:\n",
    "            get_PTBtaxPDF(number, street, area='1', latest=1)\n",
    "            get_NPVtaxPDF(number, street, area='1', latest=1)\n",
    "        except:\n",
    "            pass\n",
    "    endStreet = datetime.now()\n",
    "    endStreetString = endStreet.strftime(\"%I:%M%p on %B %d, %Y\")\n",
    "    print 'End %s at %s' %(street,endStreetString)\n",
    "    #print 'Going to sleep now for 5 minutes'\n",
    "    #time.sleep(5*60)"
   ]
  },
  {
   "cell_type": "code",
   "execution_count": null,
   "metadata": {
    "collapsed": true
   },
   "outputs": [],
   "source": []
  }
 ],
 "metadata": {
  "kernelspec": {
   "display_name": "Python 2",
   "language": "python",
   "name": "python2"
  },
  "language_info": {
   "codemirror_mode": {
    "name": "ipython",
    "version": 2
   },
   "file_extension": ".py",
   "mimetype": "text/x-python",
   "name": "python",
   "nbconvert_exporter": "python",
   "pygments_lexer": "ipython2",
   "version": "2.7.10"
  }
 },
 "nbformat": 4,
 "nbformat_minor": 0
}
